{
 "cells": [
  {
   "cell_type": "code",
   "execution_count": 1,
   "metadata": {},
   "outputs": [],
   "source": [
    "import numpy as np\n",
    "import matplotlib.pyplot as plt\n",
    "import torch\n",
    "import pandas as pd\n",
    "import torch.nn as nn\n",
    "import torch.nn.functional as F\n",
    "import torch.optim\n",
    "import glob\n",
    "import torch.utils.data as data_utils\n",
    "import math \n",
    "import time\n",
    "import datetime\n",
    "from torchsummary import summary\n",
    "from astropy.io import fits"
   ]
  },
  {
   "cell_type": "code",
   "execution_count": 4,
   "metadata": {},
   "outputs": [],
   "source": [
    "now = datetime.datetime.now()"
   ]
  },
  {
   "cell_type": "code",
   "execution_count": 10,
   "metadata": {},
   "outputs": [
    {
     "data": {
      "text/plain": [
       "3"
      ]
     },
     "execution_count": 10,
     "metadata": {},
     "output_type": "execute_result"
    }
   ],
   "source": [
    "now.day"
   ]
  },
  {
   "cell_type": "code",
   "execution_count": 24,
   "metadata": {},
   "outputs": [],
   "source": [
    "NNNumbers = 0"
   ]
  },
  {
   "cell_type": "code",
   "execution_count": 4,
   "metadata": {},
   "outputs": [
    {
     "name": "stdout",
     "output_type": "stream",
     "text": [
      "cpu\n"
     ]
    }
   ],
   "source": [
    "startTime = time.time()\n",
    "\n",
    "TrainImages = 45000\n",
    "ValidationImages = 3000\n",
    "TestImages = 12000\n",
    "\n",
    "epochs = 50 \n",
    "lr = 0.001 \n",
    "Threshold = 0.5\n",
    "batch_size = 500 \n",
    "device = torch.device(\"cuda:0\" if torch.cuda.is_available() else \"cpu\")\n",
    "print(device)\n",
    "\n",
    "DataType = 'E'\n",
    "COSMOS = 'Y'\n",
    "if DataType == 'E':\n",
    "    bands = 1\n",
    "else: \n",
    "    bands = 4"
   ]
  },
  {
   "cell_type": "code",
   "execution_count": 5,
   "metadata": {},
   "outputs": [],
   "source": [
    "def LoadData(Number, DataType, COSMOS):\n",
    "\n",
    "    import re\n",
    "    import numpy as np\n",
    "    \n",
    "    if DataType == 'E':\n",
    "        f = open('EuclidDataFile.csv','r')\n",
    "    else:\n",
    "        f = open('KiDSDataFile.csv','r')\n",
    "    reader = f.read()\n",
    "    f.close()\n",
    "    \n",
    "    reader = re.split('\\n',reader)\n",
    "    Index = int(re.split(',',reader[0])[-1])\n",
    "    reader = reader[1:-1]    \n",
    "    if COSMOS != 'N':\n",
    "        \n",
    "        if DataType == 'K':\n",
    "            f = open('KiDSListCOSMOSCut.csv','r')\n",
    "        else:\n",
    "            f = open('EuclidListCOSMOSCut.csv','r')\n",
    "        readerC = f.read()\n",
    "        f.close()\n",
    "        \n",
    "        COSMOSCut = []\n",
    "        \n",
    "        for a in range(0,int(len(readerC)/7)):\n",
    "            COSMOSCut.append(readerC[7*a:(7*a)+6])\n",
    "         \n",
    "        Output = np.zeros((Number,2))\n",
    "            \n",
    "        for a in range(0,Number):\n",
    "            Void = re.split(',',reader[int(int(COSMOSCut[a])-100000)])\n",
    "            Output[a,:] = [int(Void[0]),1-int(Void[Index])]\n",
    "    \n",
    "    else:\n",
    "    \n",
    "        Output = np.zeros((Number,2))\n",
    "    \n",
    "        for a in range(0,Number):\n",
    "            Void = re.split(',',reader[a])\n",
    "            Output[a,:] = [int(Void[0]),1-int(Void[Index])]          \n",
    "    return Output"
   ]
  },
  {
   "cell_type": "code",
   "execution_count": 6,
   "metadata": {},
   "outputs": [],
   "source": [
    "Output = LoadData(TrainImages+ValidationImages+TestImages, DataType, COSMOS)"
   ]
  },
  {
   "cell_type": "code",
   "execution_count": 7,
   "metadata": {},
   "outputs": [
    {
     "data": {
      "text/plain": [
       "array([[1.00002e+05, 0.00000e+00],\n",
       "       [1.00004e+05, 0.00000e+00],\n",
       "       [1.00005e+05, 0.00000e+00],\n",
       "       ...,\n",
       "       [1.87052e+05, 1.00000e+00],\n",
       "       [1.87054e+05, 1.00000e+00],\n",
       "       [1.87055e+05, 1.00000e+00]])"
      ]
     },
     "execution_count": 7,
     "metadata": {},
     "output_type": "execute_result"
    }
   ],
   "source": [
    "Output"
   ]
  },
  {
   "cell_type": "code",
   "execution_count": 8,
   "metadata": {},
   "outputs": [],
   "source": [
    "global bands "
   ]
  },
  {
   "cell_type": "code",
   "execution_count": 11,
   "metadata": {},
   "outputs": [],
   "source": [
    "def LoadImages(Output,DataType):\n",
    "    if DataType == 'E':\n",
    "        Source = glob.glob('/EuclidImages/*fits')\n",
    "        hdu_list = fits.open(Source[0])\n",
    "        Images = np.zeros((Output.shape[0],1,hdu_list[0].data.shape[0],hdu_list[0].data.shape[1]))\n",
    "        bands = 1 \n",
    "        for a in range(0,Output.shape[0]):\n",
    "            #Open the FITS file\n",
    "            hdu_list = fits.open(str(Source[a][:-11])+str(int(Output[a,0]))+'.fits')\n",
    "            print(str(Source[a][:-11])+str(int(Output[a,0]))+'.fits')\n",
    "            #Extract image data\n",
    "            Images[a,:,:,:] = hdu_list[0].data\n",
    "            Images[a,:,:,:] = Images[a,:,:,:]/np.amax(Images[a,:,:,:])\n",
    "            #Images[a,:,:,:] = (Images[a,:,:,:]-np.amin(Images[a,:,:,:]))/(np.amax(Images[a,:,:,:])-np.amin(Images[a,:,:,:]))\n",
    "            #Close the FITS file\n",
    "            hdu_list.close()            \n",
    "      \n",
    "    return Images"
   ]
  },
  {
   "cell_type": "code",
   "execution_count": 12,
   "metadata": {
    "scrolled": true
   },
   "outputs": [
    {
     "ename": "NameError",
     "evalue": "name 'LoadImages' is not defined",
     "output_type": "error",
     "traceback": [
      "\u001b[0;31m---------------------------------------------------------------------------\u001b[0m",
      "\u001b[0;31mNameError\u001b[0m                                 Traceback (most recent call last)",
      "\u001b[0;32m<ipython-input-12-e550627c5f65>\u001b[0m in \u001b[0;36m<module>\u001b[0;34m\u001b[0m\n\u001b[0;32m----> 1\u001b[0;31m \u001b[0mImages\u001b[0m \u001b[0;34m=\u001b[0m \u001b[0mLoadImages\u001b[0m\u001b[0;34m(\u001b[0m\u001b[0mOutput\u001b[0m\u001b[0;34m,\u001b[0m\u001b[0mDataType\u001b[0m\u001b[0;34m)\u001b[0m\u001b[0;34m\u001b[0m\u001b[0;34m\u001b[0m\u001b[0m\n\u001b[0m",
      "\u001b[0;31mNameError\u001b[0m: name 'LoadImages' is not defined"
     ]
    }
   ],
   "source": [
    "Images = LoadImages(Output,DataType)"
   ]
  },
  {
   "cell_type": "code",
   "execution_count": 15,
   "metadata": {},
   "outputs": [],
   "source": [
    "device = torch.device(\"cuda:0\" if torch.cuda.is_available() else \"cpu\")\n",
    "Images = torch.from_numpy(Images).float().to(device)\n",
    "Output = torch.from_numpy(Output).type(torch.LongTensor).to(device)\n",
    "Output.type(torch.LongTensor) \n",
    "intiallabels = Output[:,1]\n",
    "labels = intiallabels"
   ]
  },
  {
   "cell_type": "code",
   "execution_count": 17,
   "metadata": {},
   "outputs": [],
   "source": [
    "train = data_utils.TensorDataset(Images[:TrainImages,:], intiallabels[:TrainImages])\n",
    "train_loader = data_utils.DataLoader(train, batch_size=batch_size, shuffle=False, drop_last=True)\n",
    "\n",
    "validate = data_utils.TensorDataset(Images[TrainImages:TrainImages+ValidationImages,:], intiallabels[TrainImages:TrainImages+ValidationImages])\n",
    "validate_loader = data_utils.DataLoader(validate, batch_size=batch_size, shuffle=False, drop_last=True)\n",
    "\n",
    "test = data_utils.TensorDataset(Images[TrainImages+ValidationImages:TrainImages+ValidationImages+TestImages,:], intiallabels[TrainImages+ValidationImages:TrainImages+ValidationImages+TestImages])\n",
    "test_loader = data_utils.DataLoader(test, batch_size=batch_size, shuffle=False, drop_last=True)"
   ]
  },
  {
   "cell_type": "code",
   "execution_count": 18,
   "metadata": {},
   "outputs": [],
   "source": [
    "classes = ['No Lens', 'Lens']"
   ]
  },
  {
   "cell_type": "code",
   "execution_count": 25,
   "metadata": {},
   "outputs": [],
   "source": [
    "startNNTime = time.time()  \n",
    "class Net(nn.Module):  \n",
    "    def __init__(self):\n",
    "        super(Net, self).__init__()\n",
    "        self.conv1 = nn.Conv2d(bands,30,kernel_size=15,padding=0)\n",
    "        self.conv2 = nn.Conv2d(30, 15, kernel_size=15, padding=0)\n",
    "        self.conv3 = nn.Conv2d(15, 5, kernel_size=5, padding=0)\n",
    "        self.conv4 = nn.Conv2d(5, 1, kernel_size=5, padding=0)\n",
    "        self.pool = nn.MaxPool2d(2, 2) \n",
    "        self.fc1 = nn.Linear(36,512)  \n",
    "        self.fc4 = nn.Linear(512, 1)\n",
    "\n",
    "        #if DataType == 'E':\n",
    "        #    torch.nn.init.kaiming_uniform_(self.conv1.weight)\n",
    "        #    torch.nn.init.kaiming_uniform_(self.conv2.weight)\n",
    "        #    torch.nn.init.kaiming_uniform_(self.conv3.weight)\n",
    "        #    torch.nn.init.kaiming_uniform_(self.conv4.weight)\n",
    "        #    torch.nn.init.kaiming_uniform_(self.fc1.weight)\n",
    "        #    torch.nn.init.kaiming_uniform_(self.fc4.weight)\n",
    " \n",
    "    def forward(self, x):\n",
    "        x = (F.relu((self.conv1(x))))\n",
    "        x = self.pool(x)\n",
    "        x = (F.relu((self.conv2(x))))\n",
    "        x = self.pool(x)\n",
    "        x = (F.relu((self.conv3(x))))\n",
    "        x = (F.relu(self.conv4(x)))\n",
    "        x = x.flatten(start_dim=1)\n",
    "        x = torch.squeeze(x)\n",
    "        x = (F.relu(self.fc1(x)))\n",
    "        x = torch.sigmoid(self.fc4(x))\n",
    "        \n",
    "        return x"
   ]
  },
  {
   "cell_type": "code",
   "execution_count": 26,
   "metadata": {},
   "outputs": [],
   "source": [
    "model = Net().to(device)\n",
    "\n",
    "criterion = nn.BCELoss()\n",
    "optimizer = torch.optim.Adam(model.parameters(), lr=lr) "
   ]
  },
  {
   "cell_type": "code",
   "execution_count": 27,
   "metadata": {},
   "outputs": [
    {
     "name": "stdout",
     "output_type": "stream",
     "text": [
      "CUDA is not available.  Training on CPU ...\n"
     ]
    }
   ],
   "source": [
    "# check if CUDA is available\n",
    "train_on_gpu = torch.cuda.is_available()\n",
    "\n",
    "if not train_on_gpu:\n",
    "    print('CUDA is not available.  Training on CPU ...')\n",
    "else:\n",
    "    print('CUDA is available!  Training on GPU ...')\n",
    "    "
   ]
  },
  {
   "cell_type": "code",
   "execution_count": 28,
   "metadata": {},
   "outputs": [
    {
     "data": {
      "text/plain": [
       "torch.Size([60000, 1, 101, 101])"
      ]
     },
     "execution_count": 28,
     "metadata": {},
     "output_type": "execute_result"
    }
   ],
   "source": [
    "Images.size()"
   ]
  },
  {
   "cell_type": "code",
   "execution_count": null,
   "metadata": {},
   "outputs": [],
   "source": [
    "now = datetime.datetime.now()\n",
    "day = str(now.day)\n",
    "mon = now.month\n",
    "if mon == 1:\n",
    "    month = 'Jan'\n",
    "if mon == 2:\n",
    "    month = 'Feb'\n",
    "if mon == 3:\n",
    "    month = 'Mar'\n",
    "if mon == 4:\n",
    "    month = 'Apr'\n",
    "if mon == 5:\n",
    "    month = 'May'\n",
    "if mon == 6:\n",
    "    month = 'Jun'\n",
    "if mon == 7:\n",
    "    month = 'Jul'\n",
    "if mon == 8:\n",
    "    month = 'Aug'\n",
    "if mon == 9:\n",
    "    month = 'Sep'\n",
    "if mon == 10:\n",
    "    month = 'Oct'\n",
    "if mon == 11:\n",
    "    month = 'Nov'\n",
    "if mon == 12:\n",
    "    month = 'Dec'"
   ]
  },
  {
   "cell_type": "code",
   "execution_count": null,
   "metadata": {
    "scrolled": true
   },
   "outputs": [
    {
     "name": "stdout",
     "output_type": "stream",
     "text": [
      "Epoch: 1 \tTraining Loss: 0.365688 \tValidation Loss: 0.326146\n",
      "Epoch: 1 \tTraining Acc: 87.200000 \tValidation Acc: 86.500000\n",
      "Time: 2273.4030408859253\n",
      "Validation loss decreased (inf --> 0.326146).  Saving model ...\n",
      "Epoch: 2 \tTraining Loss: 0.301903 \tValidation Loss: 0.277274\n",
      "Epoch: 2 \tTraining Acc: 87.200000 \tValidation Acc: 86.500000\n",
      "Time: 6870.2794852256775\n",
      "Validation loss decreased (0.326146 --> 0.277274).  Saving model ...\n"
     ]
    }
   ],
   "source": [
    "# number of epochs to train the model\n",
    "n_epochs = epochs\n",
    "\n",
    "# initialize tracker for minimum validation loss\n",
    "valid_loss_min = np.Inf # set initial \"min\" to infinity\n",
    "\n",
    "timecount = []\n",
    "epochall = []\n",
    "valloss = []\n",
    "valacc = []\n",
    "trainloss = []\n",
    "trainacc = []\n",
    "\n",
    "\n",
    "for epoch in range(n_epochs):\n",
    "    # monitor training loss\n",
    "    epochStartTime = time.time()#####\n",
    "    correct = 0.0\n",
    "    cum_loss = 0.0\n",
    "    counter = 0.0\n",
    "\n",
    "    train_loss = 0.0\n",
    "    valid_loss = 0.0\n",
    "    \n",
    "    ###################\n",
    "    # train the model #\n",
    "    ###################\n",
    "    model.train() # prep model for training\n",
    "    for data, target in train_loader:\n",
    "        data = data.device()\n",
    "        target = target.type(torch.FloatTensor) \n",
    "        target = target.device()\n",
    "        # clear the gradients of all optimized variables\n",
    "        optimizer.zero_grad()\n",
    "        # forward pass: compute predicted outputs by passing inputs to the model\n",
    "        output = model(data)\n",
    "        # calculate the loss\n",
    "        loss = criterion(output, target)\n",
    "        # backward pass: compute gradient of the loss with respect to model parameters\n",
    "        loss.backward()\n",
    "        # perform a single optimization step (parameter update)\n",
    "        optimizer.step()\n",
    "        # update running training loss\n",
    "        train_loss += loss.item()*data.size(0)\n",
    "        # Accuracy\n",
    "        max_scores, max_labels = output.data.max(1)\n",
    "        target = target.type(torch.LongTensor)\n",
    "        correct += (max_labels == target.data).sum()\n",
    "        counter += data.size(0)\n",
    "        train_acc = 100 * float(correct) / counter######\n",
    "        \n",
    "    ######################    \n",
    "    # validate the model #\n",
    "    ######################\n",
    "    model.eval() # prep model for evaluation\n",
    "    correct = 0.0\n",
    "    cum_loss = 0.0\n",
    "    counter = 0.0\n",
    "    for data, target in validate_loader:\n",
    "        data = data.device()\n",
    "        target = target.type(torch.FloatTensor)  \n",
    "        target = target.device()\n",
    "        # forward pass: compute predicted outputs by passing inputs to the model\n",
    "        output = model(data)\n",
    "        # calculate the loss\n",
    "        loss = criterion(output, target)\n",
    "        # update running validation loss \n",
    "        valid_loss += loss.item()*data.size(0)\n",
    "                # Accuracy\n",
    "        max_scores, max_labels = output.data.max(1)\n",
    "        target = target.type(torch.LongTensor)\n",
    "        correct += (max_labels == target.data).sum()\n",
    "        counter += data.size(0)\n",
    "        val_acc = 100 * float(correct) / counter######\n",
    "        \n",
    "    # print training/validation statistics \n",
    "    # calculate average loss over an epoch\n",
    "    train_loss = train_loss/len(train_loader.dataset)\n",
    "    valid_loss = valid_loss/len(validate_loader.dataset)\n",
    "    \n",
    "    epochFinishTime = time.time()\n",
    "    print('Epoch: {} \\tTraining Loss: {:.6f} \\tValidation Loss: {:.6f}'.format(\n",
    "        epoch+1, \n",
    "        train_loss,\n",
    "        valid_loss\n",
    "        ))\n",
    "    print('Epoch: {} \\tTraining Acc: {:.6f} \\tValidation Acc: {:.6f}'.format(\n",
    "        epoch+1, \n",
    "        train_acc,\n",
    "        val_acc\n",
    "        ))\n",
    "    print('Time: '+ str(epochFinishTime - epochStartTime))\n",
    "    \n",
    "    timecount.append(epochFinishTime - epochStartTime)\n",
    "    epochall.append(epoch+1)\n",
    "    trainloss.append(train_loss)\n",
    "    trainacc.append(train_acc)\n",
    "    valloss.append(valid_loss)\n",
    "    valacc.append(val_acc) \n",
    "    \n",
    "    # save model if validation loss has decreased\n",
    "    if valid_loss <= valid_loss_min:\n",
    "        print('Validation loss decreased ({:.6f} --> {:.6f}).  Saving model ...'.format(\n",
    "        valid_loss_min,\n",
    "        valid_loss))\n",
    "        torch.save(model.state_dict(), 'Pytorch1_model_'+str(day)+'_'+str(month)+'_Euclid_COSMOS_'+str(NNNumbers)+'.pt')\n",
    "        torch.save(optimizer.state_dict(), 'PyTorch1_Optim_'+str(day)+'_'+str(month)+'_Euclid_COSMOS_'+str(NNNumbers)+'.pt')\n",
    "        valid_loss_min = valid_loss\n",
    "        NNNumbers = NNNumbers +1\n",
    "        \n",
    "    # The accuracy may be incorrect."
   ]
  },
  {
   "cell_type": "code",
   "execution_count": 44,
   "metadata": {},
   "outputs": [],
   "source": [
    "import pandas as pd\n",
    "\n",
    "\n",
    "\n",
    "df = pd.DataFrame({\"Time\":timecount, \"Epoch\": epochall, \"Valloss\": valloss, \"Valacc\": valacc, \"trainloss\":trainloss, \"trainacc\":trainacc})\n",
    "df.to_csv('Euclid_Cosmos_'+str(day)+'_'+str(month)+'.csv', index=False)"
   ]
  },
  {
   "cell_type": "code",
   "execution_count": 45,
   "metadata": {},
   "outputs": [
    {
     "data": {
      "text/plain": [
       "[<matplotlib.lines.Line2D at 0x128eb1ef0>]"
      ]
     },
     "execution_count": 45,
     "metadata": {},
     "output_type": "execute_result"
    },
    {
     "data": {
      "image/png": "[encoded data removed]",
      "text/plain": [
       "<Figure size 432x288 with 1 Axes>"
      ]
     },
     "metadata": {
      "needs_background": "light"
     },
     "output_type": "display_data"
    }
   ],
   "source": [
    "plt.plot(epochall,trainloss)\n",
    "plt.plot(epochall,valloss)"
   ]
  },
  {
   "cell_type": "code",
   "execution_count": 46,
   "metadata": {},
   "outputs": [
    {
     "data": {
      "text/plain": [
       "[<matplotlib.lines.Line2D at 0x12ae035f8>]"
      ]
     },
     "execution_count": 46,
     "metadata": {},
     "output_type": "execute_result"
    },
    {
     "data": {
      "image/png": "[encoded data removed]",
      "text/plain": [
       "<Figure size 432x288 with 1 Axes>"
      ]
     },
     "metadata": {
      "needs_background": "light"
     },
     "output_type": "display_data"
    }
   ],
   "source": [
    "plt.plot(epochall,trainacc)\n",
    "plt.plot(epochall,valacc)"
   ]
  },
  {
   "cell_type": "code",
   "execution_count": 33,
   "metadata": {},
   "outputs": [],
   "source": [
    "model.load_state_dict(torch.load('checkpoints/Pytorch1_model_Feb13_Euclid_COSMOS_Paper15.pt'))\n",
    "optimizer.load_state_dict(torch.load('checkpoints/Pytorch1_Optim_Feb13_Euclid_COSMOS_Paper15.pt'))"
   ]
  },
  {
   "cell_type": "code",
   "execution_count": 49,
   "metadata": {},
   "outputs": [
    {
     "name": "stdout",
     "output_type": "stream",
     "text": [
      "Test Loss: 0.168695\n",
      "\n",
      "Test Acc: 94.500000\n",
      "\n"
     ]
    }
   ],
   "source": [
    " # track test loss\n",
    "test_loss = 0.0\n",
    "class_correct = list(0. for i in range(2))\n",
    "class_total = list(0. for i in range(2))\n",
    "correctInt = 0\n",
    "truePositive = 0\n",
    "trueNegative = 0\n",
    "falsePositive = 0\n",
    "falseNegative = 0\n",
    "tpr = []\n",
    "fpr = []\n",
    "tnr = []\n",
    "fnr = []\n",
    "totalTarget = []\n",
    "totalOutput = []\n",
    "lass =[]\n",
    "model.eval()\n",
    "# iterate over test data\n",
    "for data, target in test_loader:\n",
    "    predictions = np.zeros(batch_size)\n",
    "    # move tensors to GPU if CUDA is available\n",
    "    if train_on_gpu:\n",
    "        data, target = data.cuda(), target.cuda()\n",
    "    # forward pass: compute predicted outputs by passing inputs to the model\n",
    "    output = model(data)\n",
    "    # calculate the batch loss\n",
    "    target = target.type(torch.float)\n",
    "    loss = criterion(output, target)\n",
    "    # update test loss \n",
    "    test_loss += loss.item()*data.size(0)\n",
    "    # convert output probabilities to predicted class\n",
    "    for i in range(len(output)):\n",
    "        if output[i] >= 0.5:\n",
    "            predictions[i] = 1\n",
    "        else:\n",
    "             predictions[i] = 0   \n",
    "    # calculate test accuracy for each object class\n",
    "    totalTarget = np.append(totalTarget, target)\n",
    "    totalOutput = np.append(totalOutput, output.detach().numpy())\n",
    "    for i in range(batch_size):\n",
    "        if target[i] == predictions[i]:\n",
    "            correctInt += 1.\n",
    "            if target[i] == 1:\n",
    "                truePositive += 1.\n",
    "                tpr = np.append(tpr, truePositive)\n",
    "                fpr = np.append(fpr, falsePositive)\n",
    "                tnr = np.append(tnr, trueNegative)\n",
    "                fnr = np.append(fnr, falseNegative)\n",
    "                lass = np.append(lass,'True Positive')\n",
    "            else:\n",
    "                trueNegative += 1.\n",
    "                tpr = np.append(tpr, truePositive)\n",
    "                fpr = np.append(fpr, falsePositive)\n",
    "                tnr = np.append(tnr, trueNegative)\n",
    "                fnr = np.append(fnr, falseNegative)\n",
    "                lass = np.append(lass,'True Negative')\n",
    "        if (target[i]==0) and (predictions[i]==1):\n",
    "            falsePositive += 1.\n",
    "            tpr = np.append(tpr, truePositive)\n",
    "            fpr = np.append(fpr, falsePositive)\n",
    "            tnr = np.append(tnr, trueNegative)\n",
    "            fnr = np.append(fnr, falseNegative)\n",
    "            lass = np.append(lass,'False Positive')\n",
    "        if (target[i]==1) and (predictions[i]==0):#else:\n",
    "            falseNegative += 1.\n",
    "            tpr = np.append(tpr, truePositive)\n",
    "            fpr = np.append(fpr, falsePositive)\n",
    "            tnr = np.append(tnr, trueNegative)\n",
    "            fnr = np.append(fnr, falseNegative)\n",
    "            lass = np.append(lass,'False Negative')\n",
    "\n",
    "# average test loss\n",
    "test_loss = test_loss/len(test_loader.dataset)\n",
    "print('Test Loss: {:.6f}\\n'.format(test_loss))\n",
    "test_acc = (correctInt/len(test_loader.dataset))*100.0\n",
    "print('Test Acc: {:.6f}\\n'.format(test_acc))\n"
   ]
  },
  {
   "cell_type": "code",
   "execution_count": 53,
   "metadata": {},
   "outputs": [
    {
     "name": "stdout",
     "output_type": "stream",
     "text": [
      "10267.0\n",
      "526.0\n",
      "1073.0\n",
      "134.0\n"
     ]
    }
   ],
   "source": [
    "print(trueNegative)\n",
    "print(falseNegative)\n",
    "print(truePositive)\n",
    "print(falsePositive)"
   ]
  },
  {
   "cell_type": "code",
   "execution_count": 54,
   "metadata": {},
   "outputs": [
    {
     "data": {
      "image/png": "[encoded data removed]",
      "text/plain": [
       "<Figure size 432x288 with 1 Axes>"
      ]
     },
     "metadata": {
      "needs_background": "light"
     },
     "output_type": "display_data"
    }
   ],
   "source": [
    "plt.hist(totalOutput,bins=40)\n",
    "plt.show()"
   ]
  },
  {
   "cell_type": "code",
   "execution_count": 55,
   "metadata": {},
   "outputs": [],
   "source": [
    "from sklearn import metrics\n",
    "a, b, c = metrics.roc_curve(totalTarget,totalOutput)\n",
    "roc_auc = metrics.auc(a,b)"
   ]
  },
  {
   "cell_type": "code",
   "execution_count": 56,
   "metadata": {},
   "outputs": [
    {
     "data": {
      "text/plain": [
       "0.9366305459997202"
      ]
     },
     "execution_count": 56,
     "metadata": {},
     "output_type": "execute_result"
    }
   ],
   "source": [
    "roc_auc"
   ]
  },
  {
   "cell_type": "code",
   "execution_count": 57,
   "metadata": {},
   "outputs": [],
   "source": [
    "import pandas as pd\n",
    "\n",
    "df = pd.DataFrame({\"Euclid ID\":Output[48000:,0],\"Probability\":totalOutput, \"Classification\": lass,\"Target\":totalTarget})\n",
    "df.to_csv('Euclid_COSMOS_'+str(day)+'_'+str(month)+'_ROC.csv', index=False)"
   ]
  },
  {
   "cell_type": "code",
   "execution_count": 60,
   "metadata": {},
   "outputs": [
    {
     "data": {
      "image/png": "[encoded data removed]",
      "text/plain": [
       "<Figure size 432x288 with 1 Axes>"
      ]
     },
     "metadata": {
      "needs_background": "light"
     },
     "output_type": "display_data"
    }
   ],
   "source": [
    "#plt.plot(a,b, label='ROC curve (area = '+str(roc_auc)+')')\n",
    "plt.plot(a,b,label='ROC curve (area = {:.2f}'.format(roc_auc))\n",
    "plt.plot([0,1],[0,1],color='red',linestyle='--')\n",
    "plt.xlim(0,1)\n",
    "plt.ylim(0,1)\n",
    "plt.legend()\n",
    "#plt.axis('equal')\n",
    "plt.gca().set_aspect('equal',adjustable='box')\n",
    "plt.grid()\n",
    "#plt.title('Paper_Euclid_NO_Cosmos_ROCcurve')\n",
    "plt.xlabel('False Positive Rate')\n",
    "plt.ylabel('True Positive Rate')\n",
    "plt.savefig('Euclid_COSMOS_'+str(day)+'_'+str(month)+'_ROCCURVE.pdf', bbox_inches='tight',dpi=300)\n",
    "plt.show()"
   ]
  }
 ],
 "metadata": {
  "kernelspec": {
   "display_name": "Python 3",
   "language": "python",
   "name": "python3"
  },
  "language_info": {
   "codemirror_mode": {
    "name": "ipython",
    "version": 3
   },
   "file_extension": ".py",
   "mimetype": "text/x-python",
   "name": "python",
   "nbconvert_exporter": "python",
   "pygments_lexer": "ipython3",
   "version": "3.7.3"
  }
 },
 "nbformat": 4,
 "nbformat_minor": 2
}
